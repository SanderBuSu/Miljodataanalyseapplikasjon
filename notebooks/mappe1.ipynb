{
 "cells": [
  {
   "cell_type": "markdown",
   "metadata": {},
   "source": [
    "# Mappe del 1\n",
    "Her ligger all info fra første del av prosjektet.\n",
    "\n",
    "## Oppgave 1\n",
    "\n",
    "## Oppgave 2\n",
    "\n",
    "## Oppgave 3\n"
   ]
  },
  {
   "cell_type": "markdown",
   "metadata": {},
   "source": []
  }
 ],
 "metadata": {
  "language_info": {
   "name": "python"
  }
 },
 "nbformat": 4,
 "nbformat_minor": 2
}
